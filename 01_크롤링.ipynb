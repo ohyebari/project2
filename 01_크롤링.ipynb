{
 "cells": [
  {
   "cell_type": "markdown",
   "metadata": {},
   "source": [
    "## 01) 크롤러_시크먼트 카페"
   ]
  },
  {
   "cell_type": "code",
   "execution_count": 1,
   "metadata": {},
   "outputs": [],
   "source": [
    "import pandas as pd\n",
    "import pickle #pickle: 저장된 list그자체로 저장해서 list를 그 자체로 가져오기위하여\n",
    "from tqdm import tqdm\n",
    "from selenium import webdriver\n",
    "from bs4 import BeautifulSoup\n",
    "from selenium.webdriver.common.keys import Keys #selenium keys 객체가 control키를 입력하게 해줌\n",
    "import time\n",
    "import pyperclip #복사, 붙여넣기 모듈로, 네이버 자동입력 방지문자 봇감지로직에 걸리지 않고 로그인\n",
    "\n",
    "import warnings # 경고 알림 제거\n",
    "warnings.filterwarnings(\"ignore\", category=Warning) # 경고 알림이 뜨면 모두 무시합니다."
   ]
  },
  {
   "cell_type": "code",
   "execution_count": 2,
   "metadata": {},
   "outputs": [],
   "source": [
    "def find_last_page(driver, start_date, end_date, keyword):\n",
    "    page_url = f\"https://cafe.naver.com/parisienlook/ArticleSearchList.nhn?search.clubid=23451561&search.media=0&search.searchdate={start_date}{end_date}&search.defaultValue=1&userDisplay=50&search.option=0&search.sortBy=date&search.searchBy=0&search.query={keyword}&search.viewtype=title\"\n",
    "    driver.get(page_url)\n",
    "    time.sleep(1)\n",
    "    driver.switch_to.frame('cafe_main') # driver 게시판 영역으로 switch (iframe 태그:화면 속에 화면을 넣는 태그)\n",
    "    soup = BeautifulSoup(driver.page_source, 'html.parser')\n",
    "    next_btn = soup.select('div.prev-next a.pgR')\n",
    "    page_start = 0\n",
    "    while next_btn:\n",
    "        page_start += 1\n",
    "        page_num = 10 * page_start + 1\n",
    "        page_url = f\"https://cafe.naver.com/parisienlook/ArticleSearchList.nhn?search.clubid=23451561&search.media=0&search.searchdate={start_date}{end_date}&search.defaultValue=1&userDisplay=50&search.option=0&search.sortBy=date&search.searchBy=0&search.query={keyword}&search.viewtype=title&search.page={page_num}\"\n",
    "        driver.get(page_url)\n",
    "        time.sleep(1)\n",
    "        driver.switch_to.frame('cafe_main')\n",
    "        soup = BeautifulSoup(driver.page_source, 'html.parser')\n",
    "        next_btn = soup.select('div.prev-next a.pgR')\n",
    "    \n",
    "    last_page = soup.select('div.prev-next a')[-1].text\n",
    "    return int(last_page)"
   ]
  },
  {
   "cell_type": "code",
   "execution_count": 3,
   "metadata": {},
   "outputs": [],
   "source": [
    "# keyword 입력 in 전체게시판에서 url&게시판 개괄적 내용 추출 함수 (List로저장)\n",
    "def collect_row(driver, start_date, end_date, page_num, keyword): #start_dateend_date: 2021-05-072021-05-19\n",
    "    \n",
    "    page_url = f\"https://cafe.naver.com/parisienlook/ArticleSearchList.nhn?search.clubid=23451561&search.media=0&search.searchdate={start_date}{end_date}&search.defaultValue=1&userDisplay=50&search.option=0&search.sortBy=date&search.searchBy=0&search.query={keyword}&search.viewtype=title&search.page={page_num}\"\n",
    "    driver.get(page_url)\n",
    "    time.sleep(1)\n",
    "    driver.switch_to.frame('cafe_main') # driver 게시판 영역으로 switch (iframe 태그:화면 속에 화면을 넣는 태그)\n",
    "    soup = BeautifulSoup(driver.page_source, 'html.parser')\n",
    "    body = soup.find_all('div', class_='article-board')[-1].tbody\n",
    "    \n",
    "    article_href = [div.a['href'] for div in body.find_all('div', class_='inner_list')] # articleid로 게시글링크연결될수있는데 안바꾸고 예전것 사용\n",
    "    article_links = ['https://cafe.naver.com/parisienlook/' + res for res in article_href]\n",
    "    category_id = [div.text for div in body.find_all('div', class_='inner_number')] #articleid로 게시글링크연결되는 키값이나 >> 게시글 조회용으로 수집함\n",
    "\n",
    "    article_titles = [div.a.text.strip() for div in body.find_all('div', class_='inner_list')]\n",
    "    nick_names = [td.text.strip() for td in body.find_all('td', class_='p-nick')]\n",
    "    dates = [td.text for td in body.find_all('td', class_='td_date')]\n",
    "    num_views = [td.text for td in body.find_all('td', class_='td_view')]\n",
    "    \n",
    "    df_ = {\n",
    "        'article_links' : article_links,\n",
    "        'category_id' : category_id,\n",
    "        'article_titles' : article_titles,\n",
    "        'nick_names' : nick_names,\n",
    "        'dates' : dates,\n",
    "        'num_views' : num_views,        \n",
    "    }\n",
    "\n",
    "    return df_"
   ]
  },
  {
   "cell_type": "code",
   "execution_count": 4,
   "metadata": {
    "tags": []
   },
   "outputs": [],
   "source": [
    "# v2. 게시판 구성이 달라서(게시판 타입 명시안되어있는 게시글) 아래 항목 추출되지 않는 비율 124개 중 1개로 낮으나 수집해보기로하여 함수 업데이트\n",
    "# 단, href로 들어가는것과 article_id로 들어가는것 안의 태그 달라서, href작성한것으로 그대로 유지\n",
    "# 댓글이 100개 넘는 경우에 댓글 페이지 2페이지로 넘어가나, 명품 댓글에 100개가 많이 없어서 pass\n",
    "\n",
    "def collect_text(driver, article):\n",
    "    \n",
    "    driver.get(article)\n",
    "    time.sleep(1)\n",
    "    driver.switch_to.frame('cafe_main')\n",
    "    soup = BeautifulSoup(driver.page_source, 'html.parser')\n",
    "    \n",
    "    try:\n",
    "        try:\n",
    "            article_type = soup.select_one('div.tit-box a.m-tcol-c').text.strip()  #게시판 종류\n",
    "        except:\n",
    "            article_type = soup.select_one('div.title_area').text.strip() #회원등급이 낮아 접근 불가 페이지(중고 프리미엄) 게시판\n",
    "    except:\n",
    "        article_type = 'N/A'\n",
    "    \n",
    "    try:\n",
    "        try:\n",
    "            num_comments = soup.select_one('div.reply-box a.reply_btn').text.strip().split()[1] #댓글수\n",
    "        except:\n",
    "            num_comments = soup.select_one('div.reply-box span.reply').text.strip().split()[1] #댓글수 v2(게시판 구성 다른것)\n",
    "    except:\n",
    "        num_comments = '0'\n",
    "    \n",
    "    try:\n",
    "        article_content = soup.select_one('div.tbody.m-tcol-c').text.strip() #게시판 본문\n",
    "    except:\n",
    "        article_content = None\n",
    "    \n",
    "    try:\n",
    "        comment_names = [commname.text.strip() for commname in soup.select('div.box-reply2 td.p-nick') if commname.text.strip() != ''] #댓글 작성자(삭제된 댓글 제외)\n",
    "    except:\n",
    "        comment_names = None\n",
    "    \n",
    "    try:\n",
    "        comment_text = [commtext.text.strip() for commtext in soup.select('div.box-reply2 span.comm_body') if commtext.text.strip() != '' and commtext.text.strip()!= '삭제된 댓글입니다.'] #게시글당 댓글내용 이모티콘 있는부분과 삭제된 댓글 제외  \n",
    "    except:\n",
    "        comment_text = None\n",
    "    \n",
    "    comment_list = list(zip(comment_names, comment_text)) #댓글 json타입으로 저장 많이한다고함 {댓글id1: 댓글내용1,댓글id2: 댓글내용2}\n",
    "    \n",
    "    data = {\n",
    "    'article_type' : article_type,\n",
    "    'article_content' : article_content,\n",
    "    'num_comment' : num_comments,\n",
    "    'comment_list' : comment_list\n",
    "        }\n",
    "\n",
    "    return data"
   ]
  },
  {
   "cell_type": "code",
   "execution_count": 5,
   "metadata": {},
   "outputs": [],
   "source": [
    "driver = webdriver.Chrome('../../../chromedriver.exe')\n",
    "\n",
    "driver.get('https://www.naver.com/') #웹페이지 접속\n",
    "\n",
    "# 로그인 버튼을 찾고 클릭합니다\n",
    "login_btn = driver.find_element_by_class_name('link_login')\n",
    "login_btn.click()\n",
    "time.sleep(1)\n",
    "\n",
    "# id, pw 입력할 곳을 찾습니다.\n",
    "tag_id = driver.find_element_by_id('id')\n",
    "tag_pw = driver.find_element_by_id('pw')\n",
    "tag_id.clear()\n",
    "\n",
    "# id 입력\n",
    "tag_id.click()\n",
    "pyperclip.copy('XXX') #id 복사\n",
    "tag_id.send_keys(Keys.CONTROL, 'v') #id 붙여넣기\n",
    "time.sleep(1)\n",
    "\n",
    "# pw 입력\n",
    "tag_pw.click()\n",
    "pyperclip.copy('YYY')\n",
    "tag_pw.send_keys(Keys.CONTROL, 'v')\n",
    "time.sleep(1)\n",
    "\n",
    "# 로그인 버튼을 클릭합니다\n",
    "login_btn = driver.find_element_by_id('log.login')\n",
    "login_btn.click()"
   ]
  },
  {
   "cell_type": "code",
   "execution_count": 6,
   "metadata": {},
   "outputs": [
    {
     "name": "stdout",
     "output_type": "stream",
     "text": [
      "7\n",
      "Wall time: 3.49 s\n"
     ]
    }
   ],
   "source": [
    "%%time\n",
    "\n",
    "# 두 함수가 파라미터 공통이어 변수로 저장\n",
    "start_date = '2021-08-01'\n",
    "end_date = '2021-08-31'\n",
    "\n",
    "# keyword = '%BA%D2%B0%A1%B8%AE' #불가리\n",
    "# keyword = '%B1%EE%B8%A3%B6%EC%BF%A1' #까르띠에\n",
    "# keyword = '%C6%BC%C6%C4%B4%CF' #티파니\n",
    "keyword = '%B9%DD%C5%AC' #반클리프 키워드\n",
    "\n",
    "last_page = find_last_page(driver, start_date = start_date, end_date= end_date, keyword = keyword)\n",
    "print(last_page) #게시글 수가 50-60페이지(1페이지당 50개) 넘어가면 짤리므로 기간 좁혀서 수집"
   ]
  },
  {
   "cell_type": "code",
   "execution_count": 102,
   "metadata": {},
   "outputs": [
    {
     "name": "stderr",
     "output_type": "stream",
     "text": [
      "100%|████████████████████████████████████████████████████████████████████████████████████| 7/7 [11:19<00:00, 97.12s/it]"
     ]
    },
    {
     "name": "stdout",
     "output_type": "stream",
     "text": [
      "Wall time: 11min 19s\n"
     ]
    },
    {
     "name": "stderr",
     "output_type": "stream",
     "text": [
      "\n"
     ]
    }
   ],
   "source": [
    "%%time\n",
    "links = []\n",
    "df_category_id = []\n",
    "df_article_titles = []\n",
    "df_nick_names = []\n",
    "df_dates = []\n",
    "df_num_views = []\n",
    "df_article_type = []\n",
    "df_article_content = []\n",
    "df_num_comment = []\n",
    "df_comment_list = []\n",
    "\n",
    "for i in tqdm(range(1, last_page+1)):\n",
    "    page = collect_row(driver, start_date = start_date, end_date= end_date, page_num=i, keyword = keyword) \n",
    "    for index, link in enumerate(page['article_links']):\n",
    "        df_category_id.append(page['category_id'][index])\n",
    "        df_article_titles.append(page['article_titles'][index])\n",
    "        df_nick_names.append(page['nick_names'][index])\n",
    "        df_dates.append(page['dates'][index])\n",
    "        df_num_views.append(page['num_views'][index])\n",
    "        \n",
    "        article = collect_text(driver, link)\n",
    "        df_article_type.append(article['article_type'])\n",
    "        df_article_content.append(article['article_content'])\n",
    "        df_num_comment.append(article['num_comment'])\n",
    "        df_comment_list.append(article['comment_list'])"
   ]
  },
  {
   "cell_type": "code",
   "execution_count": 103,
   "metadata": {},
   "outputs": [],
   "source": [
    "data = pd.DataFrame(list(zip(df_category_id, df_article_type, df_article_titles, df_nick_names, df_dates, df_num_views, df_article_content, df_num_comment, df_comment_list)),\\\n",
    "                 columns = ['category_id', 'article_type', 'article_titles', 'nick_names', 'dates', 'num_views', 'article_content', 'num_comment', 'comment_list'])"
   ]
  },
  {
   "cell_type": "code",
   "execution_count": 104,
   "metadata": {},
   "outputs": [
    {
     "name": "stdout",
     "output_type": "stream",
     "text": [
      "324\n"
     ]
    }
   ],
   "source": [
    "print(len(data))"
   ]
  },
  {
   "cell_type": "code",
   "execution_count": 105,
   "metadata": {},
   "outputs": [
    {
     "data": {
      "text/html": [
       "<div>\n",
       "<style scoped>\n",
       "    .dataframe tbody tr th:only-of-type {\n",
       "        vertical-align: middle;\n",
       "    }\n",
       "\n",
       "    .dataframe tbody tr th {\n",
       "        vertical-align: top;\n",
       "    }\n",
       "\n",
       "    .dataframe thead th {\n",
       "        text-align: right;\n",
       "    }\n",
       "</style>\n",
       "<table border=\"1\" class=\"dataframe\">\n",
       "  <thead>\n",
       "    <tr style=\"text-align: right;\">\n",
       "      <th></th>\n",
       "      <th>category_id</th>\n",
       "      <th>article_type</th>\n",
       "      <th>article_titles</th>\n",
       "      <th>nick_names</th>\n",
       "      <th>dates</th>\n",
       "      <th>num_views</th>\n",
       "      <th>article_content</th>\n",
       "      <th>num_comment</th>\n",
       "      <th>comment_list</th>\n",
       "    </tr>\n",
       "  </thead>\n",
       "  <tbody>\n",
       "    <tr>\n",
       "      <th>0</th>\n",
       "      <td>2931364</td>\n",
       "      <td>명품 시계 토크</td>\n",
       "      <td>이 반클 시계 어떤가용?</td>\n",
       "      <td>리즈벨</td>\n",
       "      <td>2021.08.31.</td>\n",
       "      <td>1,685</td>\n",
       "      <td>누르면 다리에서 남녀가 만나서 키스 하는건데용가격이 사악하지만 제눈엔 이뻐보이눈데....</td>\n",
       "      <td>29</td>\n",
       "      <td>[(낙타악어새, 개취라고 생각해요~~제 취향은 ㄴ ㄴ ..ㅠ), (리즈벨작성자, 가...</td>\n",
       "    </tr>\n",
       "    <tr>\n",
       "      <th>1</th>\n",
       "      <td>2930638</td>\n",
       "      <td>자유로운 토크</td>\n",
       "      <td>목걸이 입문 도와주세용!!</td>\n",
       "      <td>angelangel</td>\n",
       "      <td>2021.08.31.</td>\n",
       "      <td>890</td>\n",
       "      <td>명품 목걸이는 처음이에요30대 중반이고 예산500만원 아래에서 보고있어요.​제 스타...</td>\n",
       "      <td>6</td>\n",
       "      <td>[(블랙금장, 부쉐론이 제일 괜찮아요 ~ 여러가지 하실거 아님 요거 하나로 ~ 캐주...</td>\n",
       "    </tr>\n",
       "    <tr>\n",
       "      <th>2</th>\n",
       "      <td>2930591</td>\n",
       "      <td>[중고][일반회원]팝니다,교환</td>\n",
       "      <td>[팝니다]\\n                                \\n     ...</td>\n",
       "      <td>Tccic</td>\n",
       "      <td>2021.08.31.</td>\n",
       "      <td>436</td>\n",
       "      <td>판매가 완료된 상품입니다.\\n\\n\\n\\n\\n\\n[새제품] 18K 다이아몬드 가드링\\...</td>\n",
       "      <td>2</td>\n",
       "      <td>[(슈슈슈크림빵, 저요!!), (Tccic작성자, 네 챗드릴게요)]</td>\n",
       "    </tr>\n",
       "    <tr>\n",
       "      <th>3</th>\n",
       "      <td>2930575</td>\n",
       "      <td>명품 골라주세요</td>\n",
       "      <td>목걸이 추천 부탁드려요</td>\n",
       "      <td>나룡</td>\n",
       "      <td>2021.08.31.</td>\n",
       "      <td>223</td>\n",
       "      <td>생일기념 목걸이 사려고해요(100~200사이)30대 후반에무난하고 차분한 스타일 추...</td>\n",
       "      <td>3</td>\n",
       "      <td>[(꼼데빠 커플, 30대 시면 티파니 이쁠것 같아요!), (나룡작성자, 곧 40대라...</td>\n",
       "    </tr>\n",
       "    <tr>\n",
       "      <th>4</th>\n",
       "      <td>2930428</td>\n",
       "      <td>보석 쥬얼리 토크</td>\n",
       "      <td>반클리프 색상고민</td>\n",
       "      <td>도리도리d</td>\n",
       "      <td>2021.08.31.</td>\n",
       "      <td>725</td>\n",
       "      <td>안녕하세요 반클 빼를리 뱅글 구매하려고 하는데 고민이 있어요..반클 로즈골드냐 옐로...</td>\n",
       "      <td>5</td>\n",
       "      <td>[(우앵잉, 전 갠적으로 로골요..!), (치즈라면, 로골이요~), (해피한인생, ...</td>\n",
       "    </tr>\n",
       "  </tbody>\n",
       "</table>\n",
       "</div>"
      ],
      "text/plain": [
       "  category_id      article_type  \\\n",
       "0     2931364          명품 시계 토크   \n",
       "1     2930638           자유로운 토크   \n",
       "2     2930591  [중고][일반회원]팝니다,교환   \n",
       "3     2930575          명품 골라주세요   \n",
       "4     2930428         보석 쥬얼리 토크   \n",
       "\n",
       "                                      article_titles  nick_names        dates  \\\n",
       "0                                      이 반클 시계 어떤가용?         리즈벨  2021.08.31.   \n",
       "1                                     목걸이 입문 도와주세용!!  angelangel  2021.08.31.   \n",
       "2  [팝니다]\\n                                \\n     ...       Tccic  2021.08.31.   \n",
       "3                                       목걸이 추천 부탁드려요          나룡  2021.08.31.   \n",
       "4                                          반클리프 색상고민       도리도리d  2021.08.31.   \n",
       "\n",
       "  num_views                                    article_content num_comment  \\\n",
       "0     1,685  누르면 다리에서 남녀가 만나서 키스 하는건데용가격이 사악하지만 제눈엔 이뻐보이눈데....          29   \n",
       "1       890  명품 목걸이는 처음이에요30대 중반이고 예산500만원 아래에서 보고있어요.​제 스타...           6   \n",
       "2       436  판매가 완료된 상품입니다.\\n\\n\\n\\n\\n\\n[새제품] 18K 다이아몬드 가드링\\...           2   \n",
       "3       223  생일기념 목걸이 사려고해요(100~200사이)30대 후반에무난하고 차분한 스타일 추...           3   \n",
       "4       725  안녕하세요 반클 빼를리 뱅글 구매하려고 하는데 고민이 있어요..반클 로즈골드냐 옐로...           5   \n",
       "\n",
       "                                        comment_list  \n",
       "0  [(낙타악어새, 개취라고 생각해요~~제 취향은 ㄴ ㄴ ..ㅠ), (리즈벨작성자, 가...  \n",
       "1  [(블랙금장, 부쉐론이 제일 괜찮아요 ~ 여러가지 하실거 아님 요거 하나로 ~ 캐주...  \n",
       "2              [(슈슈슈크림빵, 저요!!), (Tccic작성자, 네 챗드릴게요)]  \n",
       "3  [(꼼데빠 커플, 30대 시면 티파니 이쁠것 같아요!), (나룡작성자, 곧 40대라...  \n",
       "4  [(우앵잉, 전 갠적으로 로골요..!), (치즈라면, 로골이요~), (해피한인생, ...  "
      ]
     },
     "execution_count": 105,
     "metadata": {},
     "output_type": "execute_result"
    }
   ],
   "source": [
    "data.head()"
   ]
  },
  {
   "cell_type": "code",
   "execution_count": 106,
   "metadata": {},
   "outputs": [
    {
     "name": "stdout",
     "output_type": "stream",
     "text": [
      "<class 'pandas.core.frame.DataFrame'>\n",
      "Int64Index: 324 entries, 0 to 323\n",
      "Data columns (total 9 columns):\n",
      " #   Column           Non-Null Count  Dtype \n",
      "---  ------           --------------  ----- \n",
      " 0   category_id      324 non-null    object\n",
      " 1   article_type     324 non-null    object\n",
      " 2   article_titles   324 non-null    object\n",
      " 3   nick_names       324 non-null    object\n",
      " 4   dates            324 non-null    object\n",
      " 5   num_views        324 non-null    object\n",
      " 6   article_content  324 non-null    object\n",
      " 7   num_comment      324 non-null    object\n",
      " 8   comment_list     324 non-null    object\n",
      "dtypes: object(9)\n",
      "memory usage: 25.3+ KB\n"
     ]
    }
   ],
   "source": [
    "data = data.drop_duplicates(subset=['article_titles', 'nick_names', 'dates'])\n",
    "data.info()"
   ]
  },
  {
   "cell_type": "code",
   "execution_count": 107,
   "metadata": {
    "tags": []
   },
   "outputs": [],
   "source": [
    "save_excel_name = 'data/VCA_2021_08.xlsx'\n",
    "data.to_excel(save_excel_name, index=False) #읽기용으로 엑셀 저장하고, 전처리 등 형태소분석 할때는 피클로 저장하고"
   ]
  },
  {
   "cell_type": "code",
   "execution_count": 108,
   "metadata": {},
   "outputs": [],
   "source": [
    "save_file_name = \"data/VCA_2021_08.pk\"\n",
    "with open(save_file_name, \"wb\") as f: #wb: write binary\n",
    "    pickle.dump(data, f)"
   ]
  }
 ],
 "metadata": {
  "kernelspec": {
   "display_name": "Python 3",
   "language": "python",
   "name": "python3"
  },
  "language_info": {
   "codemirror_mode": {
    "name": "ipython",
    "version": 3
   },
   "file_extension": ".py",
   "mimetype": "text/x-python",
   "name": "python",
   "nbconvert_exporter": "python",
   "pygments_lexer": "ipython3",
   "version": "3.7.6"
  }
 },
 "nbformat": 4,
 "nbformat_minor": 4
}
