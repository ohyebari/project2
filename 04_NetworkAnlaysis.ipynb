{
 "cells": [
  {
   "cell_type": "markdown",
   "id": "3e5d3b50-4a4b-4a15-abeb-43a2eafa089b",
   "metadata": {},
   "source": [
    "## 04) 연관어분석(Network Analysis)"
   ]
  },
  {
   "cell_type": "markdown",
   "id": "41b7b0bb-d957-49e4-8fd0-413dbfd886b5",
   "metadata": {
    "tags": []
   },
   "source": [
    "- **My project**\n",
    "    - 방식: 1.동시출현 빈도기반, 2.통계적유사도, 3.딥러닝Word2Vec 방법 중 동시출현빈도기반 방식 사용\n",
    "        1. customized 함수 만들어서 문서를 한 문맥으로+문서 내 중복단어 한개로보는 방법 (사용 O)\n",
    "        2. nltk.collocation함수 window지정하는방법 (사용 X)\n",
    "    - 주제\n",
    "        1. 불가리 전체 nouns에서 네트워크\n",
    "        2. 특정 키워드(예:목걸이)에서 네트워크"
   ]
  },
  {
   "cell_type": "code",
   "execution_count": 1,
   "id": "c013bd9b-356e-404e-86fc-d234a49f9a3d",
   "metadata": {},
   "outputs": [],
   "source": [
    "import pickle\n",
    "import pandas as pd\n",
    "import numpy as np\n",
    "import nltk\n",
    "\n",
    "import warnings # 경고 알림 제거\n",
    "warnings.filterwarnings(\"ignore\", category=Warning) # 경고 알림이 뜨면 모두 무시합니다."
   ]
  },
  {
   "cell_type": "code",
   "execution_count": 2,
   "id": "6cba508b-71d8-45dc-8beb-a3c4f6885e5c",
   "metadata": {},
   "outputs": [],
   "source": [
    "# 시각화\n",
    "from matplotlib import pyplot as plt\n",
    "# import seaborn as sns\n",
    "import matplotlib as mpl\n",
    "mpl.rcParams['axes.unicode_minus'] = False # 그래프에서 마이너스 폰트 깨지는 문제에 대한 대처\n",
    "# plt.rcParams['font.family'] = 'NanumGothic'\n",
    "plt.rcParams['font.family'] = 'Gulim'"
   ]
  },
  {
   "cell_type": "code",
   "execution_count": 3,
   "id": "84dc5250-e1f7-423d-a3be-8d4593527133",
   "metadata": {},
   "outputs": [],
   "source": [
    "pd.set_option('display.float_format', lambda x: '%.3f' % x) #.0f: 소수점 자리수 지정\n",
    "# pd.set_option('display.min_rows', 20)\n",
    "# pd.set_option('display.max_colwidth', None) #default 50"
   ]
  },
  {
   "cell_type": "markdown",
   "id": "e2313f5a-7b86-4094-aa59-ddc3ea44f21d",
   "metadata": {
    "jp-MarkdownHeadingCollapsed": true,
    "tags": []
   },
   "source": [
    "#### 1. 동시출현 빈도기반 함수"
   ]
  },
  {
   "cell_type": "code",
   "execution_count": 4,
   "id": "acd749fe-a34e-4276-a3bd-fa2f903ec8d9",
   "metadata": {},
   "outputs": [],
   "source": [
    "input_file_name = \"data/BCTV_v2.pk\"\n",
    "with open(input_file_name, 'rb') as f: # read as binary(피클 파일 읽기 위하여)\n",
    "    data = pickle.load(f)"
   ]
  },
  {
   "cell_type": "code",
   "execution_count": 5,
   "id": "ac90a4a4-96f2-47b2-80da-b5e75a928bf5",
   "metadata": {},
   "outputs": [
    {
     "data": {
      "text/plain": [
       "17115"
      ]
     },
     "execution_count": 5,
     "metadata": {},
     "output_type": "execute_result"
    }
   ],
   "source": [
    "len(data)"
   ]
  },
  {
   "cell_type": "code",
   "execution_count": 6,
   "id": "e87752fe-8b2e-4ac0-b15e-a719d77012d3",
   "metadata": {
    "scrolled": true
   },
   "outputs": [
    {
     "name": "stdout",
     "output_type": "stream",
     "text": [
      "<class 'pandas.core.frame.DataFrame'>\n",
      "Int64Index: 14080 entries, 0 to 17114\n",
      "Data columns (total 19 columns):\n",
      " #   Column           Non-Null Count  Dtype         \n",
      "---  ------           --------------  -----         \n",
      " 0   category_id      14080 non-null  object        \n",
      " 1   article_type     14080 non-null  object        \n",
      " 2   article_titles   14080 non-null  object        \n",
      " 3   nick_names       14080 non-null  object        \n",
      " 4   dates            14080 non-null  object        \n",
      " 5   num_views        14080 non-null  int32         \n",
      " 6   article_content  14080 non-null  object        \n",
      " 7   num_comment      14080 non-null  int64         \n",
      " 8   comment_list     14080 non-null  object        \n",
      " 9   new_dates        14080 non-null  datetime64[ns]\n",
      " 10  year             14080 non-null  int64         \n",
      " 11  month            14080 non-null  int64         \n",
      " 12  day              14080 non-null  int64         \n",
      " 13  weekday          14080 non-null  int64         \n",
      " 14  nouns_title      14080 non-null  object        \n",
      " 15  nouns_content    14080 non-null  object        \n",
      " 16  nouns_comment    14080 non-null  object        \n",
      " 17  nouns_document   14080 non-null  object        \n",
      " 18  brand            14080 non-null  object        \n",
      "dtypes: datetime64[ns](1), int32(1), int64(5), object(12)\n",
      "memory usage: 2.1+ MB\n"
     ]
    }
   ],
   "source": [
    "df = data.drop_duplicates(subset=['article_titles', 'nick_names', 'dates']) #category_id로 제거하는것보다 더 제거됨(똑같은 게시글을 다른 게시판에 복붙?)\n",
    "df.info()"
   ]
  },
  {
   "cell_type": "code",
   "execution_count": 10,
   "id": "b55fbef2-7a56-4d52-b5bd-b83eb99332b9",
   "metadata": {},
   "outputs": [
    {
     "name": "stdout",
     "output_type": "stream",
     "text": [
      "Wall time: 40.2 s\n"
     ]
    }
   ],
   "source": [
    "%%time\n",
    "stop_words = ['해주시']\n",
    "count = {}   #동시출현 빈도가 저장될 dict\n",
    "for tokens in df['nouns_document']: #동시출현빈도 세기위한 문맥은 문서단위(개별 리뷰한개를 문서 한개로 봄) - 일반적\n",
    "    stopped_tokens = [i for i in list(set(tokens)) if not i in stop_words] #동일한 문맥 내에서 중복 발생한 단어는 모두 하나로 봄\n",
    "    for i, a in enumerate(stopped_tokens):\n",
    "        for b in stopped_tokens[i+1:]:\n",
    "            if a>b: #알파벳 순서인듯 : a가 더 알파벳순 뒤에\n",
    "                count[b, a] = count.get((b, a),0) + 1  # get(x) 함수는 x라는 Key에 대응되는 Value, 딕셔너리 안에 찾으려는 Key 값이 없을 경우 미리 정해 둔 디폴트 값을 대신 가져오게 하고 싶을 때에는 get(x, '디폴트 값') 사용하면 편리\n",
    "            else :\n",
    "                count[a, b] = count.get((a, b),0) + 1     \n",
    "\n",
    "# dictionary를 바로 df으로 만드는 코드\n",
    "df1=pd.DataFrame.from_dict(count, orient='index')"
   ]
  },
  {
   "cell_type": "markdown",
   "id": "4e346127-257d-4414-9dd3-7ae0e9440810",
   "metadata": {
    "jp-MarkdownHeadingCollapsed": true,
    "tags": []
   },
   "source": [
    "#### 2. Gephi를 이용해 그래프를 그리기 위해서 두 개의 테이블 형태의 데이터를 추출"
   ]
  },
  {
   "cell_type": "markdown",
   "id": "ad5ed000-cddd-4fa5-93a4-8020e6c41b79",
   "metadata": {
    "jp-MarkdownHeadingCollapsed": true,
    "tags": []
   },
   "source": [
    "##### 2-1. edge table"
   ]
  },
  {
   "cell_type": "code",
   "execution_count": 11,
   "id": "e0d3abdc-350f-4b76-9cc7-da6f7216eb73",
   "metadata": {},
   "outputs": [
    {
     "name": "stdout",
     "output_type": "stream",
     "text": [
      "Wall time: 57.1 s\n"
     ]
    }
   ],
   "source": [
    "%%time\n",
    "# bigram index를 두개의 행으로 분리\n",
    "list1=[]\n",
    "for i in range(len(df1)):\n",
    "    list1.append([df1.index[i][0],df1.index[i][1],df1[0][i]])\n",
    "\n",
    "df_key=pd.DataFrame(list1, columns = ['Source','Target','Weight']).sort_values('Weight', ascending=False, ignore_index=True)"
   ]
  },
  {
   "cell_type": "code",
   "execution_count": 12,
   "id": "aff54dea-2f0e-4b3f-92e4-dabcd32fcab7",
   "metadata": {},
   "outputs": [
    {
     "data": {
      "text/html": [
       "<div>\n",
       "<style scoped>\n",
       "    .dataframe tbody tr th:only-of-type {\n",
       "        vertical-align: middle;\n",
       "    }\n",
       "\n",
       "    .dataframe tbody tr th {\n",
       "        vertical-align: top;\n",
       "    }\n",
       "\n",
       "    .dataframe thead th {\n",
       "        text-align: right;\n",
       "    }\n",
       "</style>\n",
       "<table border=\"1\" class=\"dataframe\">\n",
       "  <thead>\n",
       "    <tr style=\"text-align: right;\">\n",
       "      <th></th>\n",
       "      <th>Source</th>\n",
       "      <th>Target</th>\n",
       "      <th>Weight</th>\n",
       "    </tr>\n",
       "  </thead>\n",
       "  <tbody>\n",
       "    <tr>\n",
       "      <th>0</th>\n",
       "      <td>까르띠에</td>\n",
       "      <td>시계</td>\n",
       "      <td>3175</td>\n",
       "    </tr>\n",
       "    <tr>\n",
       "      <th>1</th>\n",
       "      <td>목걸이</td>\n",
       "      <td>반클리프</td>\n",
       "      <td>2523</td>\n",
       "    </tr>\n",
       "    <tr>\n",
       "      <th>2</th>\n",
       "      <td>까르띠에</td>\n",
       "      <td>매장</td>\n",
       "      <td>2293</td>\n",
       "    </tr>\n",
       "    <tr>\n",
       "      <th>3</th>\n",
       "      <td>구매</td>\n",
       "      <td>까르띠에</td>\n",
       "      <td>2291</td>\n",
       "    </tr>\n",
       "    <tr>\n",
       "      <th>4</th>\n",
       "      <td>까르띠에</td>\n",
       "      <td>추천</td>\n",
       "      <td>2090</td>\n",
       "    </tr>\n",
       "    <tr>\n",
       "      <th>5</th>\n",
       "      <td>까르띠에</td>\n",
       "      <td>팔찌</td>\n",
       "      <td>1956</td>\n",
       "    </tr>\n",
       "    <tr>\n",
       "      <th>6</th>\n",
       "      <td>가격</td>\n",
       "      <td>까르띠에</td>\n",
       "      <td>1946</td>\n",
       "    </tr>\n",
       "    <tr>\n",
       "      <th>7</th>\n",
       "      <td>구매</td>\n",
       "      <td>매장</td>\n",
       "      <td>1879</td>\n",
       "    </tr>\n",
       "    <tr>\n",
       "      <th>8</th>\n",
       "      <td>까르띠에</td>\n",
       "      <td>착용</td>\n",
       "      <td>1849</td>\n",
       "    </tr>\n",
       "    <tr>\n",
       "      <th>9</th>\n",
       "      <td>까르띠에</td>\n",
       "      <td>다이아</td>\n",
       "      <td>1833</td>\n",
       "    </tr>\n",
       "    <tr>\n",
       "      <th>10</th>\n",
       "      <td>까르띠에</td>\n",
       "      <td>사이즈</td>\n",
       "      <td>1774</td>\n",
       "    </tr>\n",
       "  </tbody>\n",
       "</table>\n",
       "</div>"
      ],
      "text/plain": [
       "   Source Target  Weight\n",
       "0    까르띠에     시계    3175\n",
       "1     목걸이   반클리프    2523\n",
       "2    까르띠에     매장    2293\n",
       "3      구매   까르띠에    2291\n",
       "4    까르띠에     추천    2090\n",
       "5    까르띠에     팔찌    1956\n",
       "6      가격   까르띠에    1946\n",
       "7      구매     매장    1879\n",
       "8    까르띠에     착용    1849\n",
       "9    까르띠에    다이아    1833\n",
       "10   까르띠에    사이즈    1774"
      ]
     },
     "execution_count": 12,
     "metadata": {},
     "output_type": "execute_result"
    }
   ],
   "source": [
    "df_key.loc[:10]"
   ]
  },
  {
   "cell_type": "code",
   "execution_count": 13,
   "id": "45d2c87a-814b-4ad1-954b-0a106a71add9",
   "metadata": {},
   "outputs": [],
   "source": [
    "# 특정 키워드 연관어 추출\n",
    "df_key = df_key[(df_key['Source']=='부쉐론')|(df_key['Target']=='부쉐론')|(df_key['Source']=='쎄뻥')|(df_key['Target']=='쎄뻥')|(df_key['Source']=='콰트로')|(df_key['Target']=='콰트로')]\n",
    "df_key = df_key.reset_index(drop=True)"
   ]
  },
  {
   "cell_type": "code",
   "execution_count": 32,
   "id": "c4f5ff44-67e8-46d1-b9e5-eb6bb2bd392b",
   "metadata": {},
   "outputs": [
    {
     "name": "stdout",
     "output_type": "stream",
     "text": [
      "         Weight\n",
      "count 13731.000\n",
      "mean      4.508\n",
      "std      12.804\n",
      "min       1.000\n",
      "25%       1.000\n",
      "50%       1.000\n",
      "75%       3.000\n",
      "max     319.000\n",
      "77\n"
     ]
    }
   ],
   "source": [
    "print(df_key.describe())\n",
    "\n",
    "threshold_value = 0.995\n",
    "print(df_key['Weight'].quantile(q=threshold_value, interpolation='nearest'))\n",
    "threshold = df_key['Weight'].quantile(q=threshold_value, interpolation='nearest')"
   ]
  },
  {
   "cell_type": "code",
   "execution_count": 33,
   "id": "b431995b-e543-4644-a748-4dc793f46df3",
   "metadata": {
    "tags": []
   },
   "outputs": [
    {
     "data": {
      "text/plain": [
       "71"
      ]
     },
     "execution_count": 33,
     "metadata": {},
     "output_type": "execute_result"
    }
   ],
   "source": [
    "edge_df = df_key[df_key['Weight'] >= threshold]\n",
    "len(edge_df)"
   ]
  },
  {
   "cell_type": "code",
   "execution_count": 34,
   "id": "3f1aa1f1-4432-4959-a5ae-fde9eca3f2dc",
   "metadata": {},
   "outputs": [
    {
     "data": {
      "text/html": [
       "<div>\n",
       "<style scoped>\n",
       "    .dataframe tbody tr th:only-of-type {\n",
       "        vertical-align: middle;\n",
       "    }\n",
       "\n",
       "    .dataframe tbody tr th {\n",
       "        vertical-align: top;\n",
       "    }\n",
       "\n",
       "    .dataframe thead th {\n",
       "        text-align: right;\n",
       "    }\n",
       "</style>\n",
       "<table border=\"1\" class=\"dataframe\">\n",
       "  <thead>\n",
       "    <tr style=\"text-align: right;\">\n",
       "      <th></th>\n",
       "      <th>Source</th>\n",
       "      <th>Target</th>\n",
       "      <th>Weight</th>\n",
       "    </tr>\n",
       "  </thead>\n",
       "  <tbody>\n",
       "    <tr>\n",
       "      <th>3</th>\n",
       "      <td>반클리프</td>\n",
       "      <td>부쉐론</td>\n",
       "      <td>284</td>\n",
       "    </tr>\n",
       "    <tr>\n",
       "      <th>5</th>\n",
       "      <td>까르띠에</td>\n",
       "      <td>부쉐론</td>\n",
       "      <td>268</td>\n",
       "    </tr>\n",
       "    <tr>\n",
       "      <th>8</th>\n",
       "      <td>부쉐론</td>\n",
       "      <td>티파니</td>\n",
       "      <td>219</td>\n",
       "    </tr>\n",
       "    <tr>\n",
       "      <th>13</th>\n",
       "      <td>반클리프</td>\n",
       "      <td>쎄뻥</td>\n",
       "      <td>180</td>\n",
       "    </tr>\n",
       "    <tr>\n",
       "      <th>22</th>\n",
       "      <td>불가리</td>\n",
       "      <td>쎄뻥</td>\n",
       "      <td>147</td>\n",
       "    </tr>\n",
       "    <tr>\n",
       "      <th>28</th>\n",
       "      <td>불가리</td>\n",
       "      <td>콰트로</td>\n",
       "      <td>121</td>\n",
       "    </tr>\n",
       "    <tr>\n",
       "      <th>43</th>\n",
       "      <td>까르띠에</td>\n",
       "      <td>콰트로</td>\n",
       "      <td>97</td>\n",
       "    </tr>\n",
       "    <tr>\n",
       "      <th>55</th>\n",
       "      <td>까르띠에</td>\n",
       "      <td>쎄뻥</td>\n",
       "      <td>89</td>\n",
       "    </tr>\n",
       "    <tr>\n",
       "      <th>64</th>\n",
       "      <td>반클리프</td>\n",
       "      <td>콰트로</td>\n",
       "      <td>82</td>\n",
       "    </tr>\n",
       "  </tbody>\n",
       "</table>\n",
       "</div>"
      ],
      "text/plain": [
       "   Source Target  Weight\n",
       "3    반클리프    부쉐론     284\n",
       "5    까르띠에    부쉐론     268\n",
       "8     부쉐론    티파니     219\n",
       "13   반클리프     쎄뻥     180\n",
       "22    불가리     쎄뻥     147\n",
       "28    불가리    콰트로     121\n",
       "43   까르띠에    콰트로      97\n",
       "55   까르띠에     쎄뻥      89\n",
       "64   반클리프    콰트로      82"
      ]
     },
     "execution_count": 34,
     "metadata": {},
     "output_type": "execute_result"
    }
   ],
   "source": [
    "edge_df[(edge_df['Source']=='까르띠에')|(edge_df['Source']=='반클리프')|(edge_df['Source']=='불가리')|(edge_df['Source']=='티파니')\\\n",
    "       |(edge_df['Target']=='까르띠에')|(edge_df['Target']=='반클리프')|(edge_df['Source']=='불가리')|(edge_df['Target']=='티파니')]"
   ]
  },
  {
   "cell_type": "code",
   "execution_count": 35,
   "id": "492713cd-49b8-4217-8729-983da36a931f",
   "metadata": {},
   "outputs": [],
   "source": [
    "edge_df['Type'] = 'Undirected'  #방향성이 없는 그래프이므로\n",
    "edge_df.to_csv('edge_data_bch.csv', index=False) #index 는 0,1,2,3 등 각 row에 붙는 숫자인데 제외함."
   ]
  },
  {
   "cell_type": "code",
   "execution_count": 36,
   "id": "4a16d9c9",
   "metadata": {},
   "outputs": [
    {
     "data": {
      "text/html": [
       "<div>\n",
       "<style scoped>\n",
       "    .dataframe tbody tr th:only-of-type {\n",
       "        vertical-align: middle;\n",
       "    }\n",
       "\n",
       "    .dataframe tbody tr th {\n",
       "        vertical-align: top;\n",
       "    }\n",
       "\n",
       "    .dataframe thead th {\n",
       "        text-align: right;\n",
       "    }\n",
       "</style>\n",
       "<table border=\"1\" class=\"dataframe\">\n",
       "  <thead>\n",
       "    <tr style=\"text-align: right;\">\n",
       "      <th></th>\n",
       "      <th>Source</th>\n",
       "      <th>Target</th>\n",
       "      <th>Weight</th>\n",
       "      <th>Type</th>\n",
       "    </tr>\n",
       "  </thead>\n",
       "  <tbody>\n",
       "    <tr>\n",
       "      <th>0</th>\n",
       "      <td>부쉐론</td>\n",
       "      <td>불가리</td>\n",
       "      <td>319</td>\n",
       "      <td>Undirected</td>\n",
       "    </tr>\n",
       "    <tr>\n",
       "      <th>1</th>\n",
       "      <td>목걸이</td>\n",
       "      <td>부쉐론</td>\n",
       "      <td>301</td>\n",
       "      <td>Undirected</td>\n",
       "    </tr>\n",
       "    <tr>\n",
       "      <th>2</th>\n",
       "      <td>다이아</td>\n",
       "      <td>부쉐론</td>\n",
       "      <td>285</td>\n",
       "      <td>Undirected</td>\n",
       "    </tr>\n",
       "    <tr>\n",
       "      <th>3</th>\n",
       "      <td>반클리프</td>\n",
       "      <td>부쉐론</td>\n",
       "      <td>284</td>\n",
       "      <td>Undirected</td>\n",
       "    </tr>\n",
       "    <tr>\n",
       "      <th>4</th>\n",
       "      <td>반지</td>\n",
       "      <td>부쉐론</td>\n",
       "      <td>279</td>\n",
       "      <td>Undirected</td>\n",
       "    </tr>\n",
       "    <tr>\n",
       "      <th>...</th>\n",
       "      <td>...</td>\n",
       "      <td>...</td>\n",
       "      <td>...</td>\n",
       "      <td>...</td>\n",
       "    </tr>\n",
       "    <tr>\n",
       "      <th>66</th>\n",
       "      <td>가방</td>\n",
       "      <td>부쉐론</td>\n",
       "      <td>80</td>\n",
       "      <td>Undirected</td>\n",
       "    </tr>\n",
       "    <tr>\n",
       "      <th>67</th>\n",
       "      <td>밴드</td>\n",
       "      <td>부쉐론</td>\n",
       "      <td>80</td>\n",
       "      <td>Undirected</td>\n",
       "    </tr>\n",
       "    <tr>\n",
       "      <th>68</th>\n",
       "      <td>디바스드림</td>\n",
       "      <td>부쉐론</td>\n",
       "      <td>78</td>\n",
       "      <td>Undirected</td>\n",
       "    </tr>\n",
       "    <tr>\n",
       "      <th>69</th>\n",
       "      <td>부쉐론</td>\n",
       "      <td>줄</td>\n",
       "      <td>77</td>\n",
       "      <td>Undirected</td>\n",
       "    </tr>\n",
       "    <tr>\n",
       "      <th>70</th>\n",
       "      <td>나이</td>\n",
       "      <td>부쉐론</td>\n",
       "      <td>77</td>\n",
       "      <td>Undirected</td>\n",
       "    </tr>\n",
       "  </tbody>\n",
       "</table>\n",
       "<p>71 rows × 4 columns</p>\n",
       "</div>"
      ],
      "text/plain": [
       "   Source Target  Weight        Type\n",
       "0     부쉐론    불가리     319  Undirected\n",
       "1     목걸이    부쉐론     301  Undirected\n",
       "2     다이아    부쉐론     285  Undirected\n",
       "3    반클리프    부쉐론     284  Undirected\n",
       "4      반지    부쉐론     279  Undirected\n",
       "..    ...    ...     ...         ...\n",
       "66     가방    부쉐론      80  Undirected\n",
       "67     밴드    부쉐론      80  Undirected\n",
       "68  디바스드림    부쉐론      78  Undirected\n",
       "69    부쉐론      줄      77  Undirected\n",
       "70     나이    부쉐론      77  Undirected\n",
       "\n",
       "[71 rows x 4 columns]"
      ]
     },
     "execution_count": 36,
     "metadata": {},
     "output_type": "execute_result"
    }
   ],
   "source": [
    "edge_df"
   ]
  },
  {
   "cell_type": "markdown",
   "id": "1b370f2d-08fd-4a6a-8c26-924a6663946c",
   "metadata": {
    "jp-MarkdownHeadingCollapsed": true,
    "tags": []
   },
   "source": [
    "##### 3-2. node table: edge_df에 나온 단어들의 unique한 set"
   ]
  },
  {
   "cell_type": "code",
   "execution_count": 37,
   "id": "ad69f592-1d9c-43e0-9a32-eddf3c63fef7",
   "metadata": {},
   "outputs": [],
   "source": [
    "token = [t for tokens in df['nouns_document'] for t in list(set(tokens)) if not t in stop_words]"
   ]
  },
  {
   "cell_type": "code",
   "execution_count": 38,
   "id": "502269f9-9682-4145-a71c-770613dfcc48",
   "metadata": {},
   "outputs": [],
   "source": [
    "freq = nltk.FreqDist(token) #불가리 명사만 추출한 문서에서 빈도 분포"
   ]
  },
  {
   "cell_type": "code",
   "execution_count": 39,
   "id": "0a2493b3-bcb6-4470-bc92-9691f4da01f7",
   "metadata": {
    "collapsed": false,
    "jupyter": {
     "outputs_hidden": false
    }
   },
   "outputs": [],
   "source": [
    "label_list = list(set(edge_df.Source)) + list(set(edge_df.Target))  #각 노드는 edge table에 등장한 유니크한 단어"
   ]
  },
  {
   "cell_type": "code",
   "execution_count": 40,
   "id": "baa2b9d2-94b9-4e87-9b34-244587b8b291",
   "metadata": {
    "collapsed": false,
    "jupyter": {
     "outputs_hidden": false
    }
   },
   "outputs": [],
   "source": [
    "#size_list 에는 각 단어가 원래 문서에서 몇 번 등장했는지\n",
    "size_list = []\n",
    "for label in label_list:\n",
    "    size_list.append(freq[label])  "
   ]
  },
  {
   "cell_type": "code",
   "execution_count": 41,
   "id": "5edc8d3d-45d8-43e2-ab90-692b02cd497b",
   "metadata": {
    "collapsed": false,
    "jupyter": {
     "outputs_hidden": false
    }
   },
   "outputs": [
    {
     "data": {
      "text/plain": [
       "47"
      ]
     },
     "execution_count": 41,
     "metadata": {},
     "output_type": "execute_result"
    }
   ],
   "source": [
    "label = list(set(label_list)) \n",
    "len(label) #node개수"
   ]
  },
  {
   "cell_type": "code",
   "execution_count": 27,
   "id": "7d073862-3714-4fe9-897f-6f39fcc14e80",
   "metadata": {
    "collapsed": false,
    "jupyter": {
     "outputs_hidden": false
    }
   },
   "outputs": [],
   "source": [
    "label_list = list(set(edge_df.Source)) + list(set(edge_df.Target))  #각 노드는 edge table에 등장한 유니크한 단어"
   ]
  },
  {
   "cell_type": "code",
   "execution_count": 28,
   "id": "3fafc386-f8aa-446d-ab60-2ad3f688eaff",
   "metadata": {
    "collapsed": false,
    "jupyter": {
     "outputs_hidden": false
    }
   },
   "outputs": [],
   "source": [
    "#size_list 에는 각 단어가 원래 문서에서 몇 번 등장했는지\n",
    "size_list = []\n",
    "for label in label_list:\n",
    "    size_list.append(freq[label])  "
   ]
  },
  {
   "cell_type": "code",
   "execution_count": 29,
   "id": "f6769b22-f580-4497-8409-0c75aeff5256",
   "metadata": {
    "collapsed": false,
    "jupyter": {
     "outputs_hidden": false
    }
   },
   "outputs": [],
   "source": [
    "label = list(set(label_list))"
   ]
  },
  {
   "cell_type": "code",
   "execution_count": 42,
   "id": "1bdfbde7-74ba-4290-b588-b1d7bab5307e",
   "metadata": {
    "collapsed": false,
    "jupyter": {
     "outputs_hidden": false
    }
   },
   "outputs": [],
   "source": [
    "node_df = pd.DataFrame(columns=['Label','Size'])\n",
    "\n",
    "node_df['Id'] = label_list\n",
    "node_df['Label'] = label_list\n",
    "node_df['Size'] = size_list"
   ]
  },
  {
   "cell_type": "code",
   "execution_count": null,
   "id": "aba1fa82-d4be-4b2c-a0d5-10de09486710",
   "metadata": {},
   "outputs": [
    {
     "data": {
      "text/html": [
       "<div>\n",
       "<style scoped>\n",
       "    .dataframe tbody tr th:only-of-type {\n",
       "        vertical-align: middle;\n",
       "    }\n",
       "\n",
       "    .dataframe tbody tr th {\n",
       "        vertical-align: top;\n",
       "    }\n",
       "\n",
       "    .dataframe thead th {\n",
       "        text-align: right;\n",
       "    }\n",
       "</style>\n",
       "<table border=\"1\" class=\"dataframe\">\n",
       "  <thead>\n",
       "    <tr style=\"text-align: right;\">\n",
       "      <th></th>\n",
       "      <th>Label</th>\n",
       "      <th>Size</th>\n",
       "    </tr>\n",
       "  </thead>\n",
       "  <tbody>\n",
       "  </tbody>\n",
       "</table>\n",
       "</div>"
      ],
      "text/plain": [
       "Empty DataFrame\n",
       "Columns: [Label, Size]\n",
       "Index: []"
      ]
     },
     "execution_count": 31,
     "metadata": {},
     "output_type": "execute_result"
    }
   ],
   "source": [
    "node_df"
   ]
  },
  {
   "cell_type": "code",
   "execution_count": 44,
   "id": "856a6348-e0fb-42d5-ac73-66b82685dfef",
   "metadata": {},
   "outputs": [],
   "source": [
    "node_df.to_csv('node_data_bch.csv', index =False)"
   ]
  },
  {
   "cell_type": "code",
   "execution_count": null,
   "id": "8bb77178-1857-4d86-90d4-3b664d11e735",
   "metadata": {},
   "outputs": [],
   "source": [
    "freq = nltk.FreqDist(token) #불가리 명사만 추출한 문서에서 빈도 분포(문서내의 단어 중복값 제거)"
   ]
  },
  {
   "cell_type": "code",
   "execution_count": 42,
   "id": "e9488b70-c6d5-463c-b1f7-73ec342da934",
   "metadata": {
    "collapsed": false,
    "jupyter": {
     "outputs_hidden": false
    }
   },
   "outputs": [],
   "source": [
    "label_list = list(set(edge_df.Source)) + list(set(edge_df.Target))  #각 노드는 edge table에 등장한 유니크한 단어"
   ]
  },
  {
   "cell_type": "code",
   "execution_count": 43,
   "id": "a3f0c4b7-8228-431b-a21b-7282a9182ecd",
   "metadata": {
    "collapsed": false,
    "jupyter": {
     "outputs_hidden": false
    }
   },
   "outputs": [
    {
     "data": {
      "text/plain": [
       "70"
      ]
     },
     "execution_count": 43,
     "metadata": {},
     "output_type": "execute_result"
    }
   ],
   "source": [
    "label = list(set(label_list)) \n",
    "len(label) #node개수"
   ]
  },
  {
   "cell_type": "code",
   "execution_count": 44,
   "id": "666179b7-8f89-4406-a2e8-60524306eeef",
   "metadata": {
    "collapsed": false,
    "jupyter": {
     "outputs_hidden": false
    }
   },
   "outputs": [],
   "source": [
    "#size_list 에는 각 단어가 원래 문서에서 몇 번 등장했는지\n",
    "size_list = []\n",
    "for label in label_list:\n",
    "    size_list.append(freq[label])  "
   ]
  },
  {
   "cell_type": "code",
   "execution_count": 45,
   "id": "c1e90dbc-5b3a-419a-ba84-113640442d8d",
   "metadata": {
    "collapsed": false,
    "jupyter": {
     "outputs_hidden": false
    }
   },
   "outputs": [],
   "source": [
    "node_df = pd.DataFrame(columns=['Label','Size'])\n",
    "\n",
    "node_df['Id'] = label_list\n",
    "node_df['Label'] = label_list\n",
    "node_df['Size'] = size_list"
   ]
  },
  {
   "cell_type": "code",
   "execution_count": 46,
   "id": "2815ca85-6aab-4ba2-9bd3-4f76b20df838",
   "metadata": {},
   "outputs": [],
   "source": [
    "node_df.to_csv('node_data_bctv.csv', index =False)"
   ]
  }
 ],
 "metadata": {
  "kernelspec": {
   "display_name": "Python 3",
   "language": "python",
   "name": "python3"
  },
  "language_info": {
   "codemirror_mode": {
    "name": "ipython",
    "version": 3
   },
   "file_extension": ".py",
   "mimetype": "text/x-python",
   "name": "python",
   "nbconvert_exporter": "python",
   "pygments_lexer": "ipython3",
   "version": "3.7.6"
  }
 },
 "nbformat": 4,
 "nbformat_minor": 5
}
